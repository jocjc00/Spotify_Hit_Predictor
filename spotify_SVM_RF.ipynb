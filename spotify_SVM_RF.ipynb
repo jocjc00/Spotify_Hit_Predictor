{
 "cells": [
  {
   "cell_type": "markdown",
   "id": "0a7e197b",
   "metadata": {},
   "source": [
    "# BCI3333 Machine Learning Application - Final Assessment\n",
    "\n",
    "# Chaw Jo Chia CB20130\n",
    "\n",
    "## Spotify Hit Predictor: dataset-of-10s.csv (https://www.kaggle.com/datasets/theoverman/the-spotify-hit-predictor-dataset?select=dataset-of-10s.csv)\n",
    "\n",
    "## SVM & Random Forest Classifier"
   ]
  },
  {
   "cell_type": "code",
   "execution_count": 1,
   "id": "14dc8512",
   "metadata": {},
   "outputs": [
    {
     "name": "stdout",
     "output_type": "stream",
     "text": [
      "                                 track                          artist  \\\n",
      "0                          Wild Things                    Alessia Cara   \n",
      "1                            Surfboard                       Esquivel!   \n",
      "2                         Love Someone                    Lukas Graham   \n",
      "3  Music To My Ears (feat. Tory Lanez)                   Keys N Krates   \n",
      "4        Juju On That Beat (TZ Anthem)  Zay Hilfigerrr & Zayion McCall   \n",
      "\n",
      "                                    uri  danceability  energy  key  loudness  \\\n",
      "0  spotify:track:2ZyuwVvV6Z3XJaXIFbspeE         0.741   0.626    1    -4.826   \n",
      "1  spotify:track:61APOtq25SCMuK0V5w2Kgp         0.447   0.247    5   -14.661   \n",
      "2  spotify:track:2JqnpexlO9dmvjUMCaLCLJ         0.550   0.415    9    -6.557   \n",
      "3  spotify:track:0cjfLhk8WJ3etPTCseKXtk         0.502   0.648    0    -5.698   \n",
      "4  spotify:track:1lItf5ZXJc1by9SbPeljFd         0.807   0.887    1    -3.892   \n",
      "\n",
      "   mode  speechiness  acousticness  instrumentalness  liveness  valence  \\\n",
      "0     0       0.0886       0.02000             0.000    0.0828    0.706   \n",
      "1     0       0.0346       0.87100             0.814    0.0946    0.250   \n",
      "2     0       0.0520       0.16100             0.000    0.1080    0.274   \n",
      "3     0       0.0527       0.00513             0.000    0.2040    0.291   \n",
      "4     1       0.2750       0.00381             0.000    0.3910    0.780   \n",
      "\n",
      "     tempo  duration_ms  time_signature  chorus_hit  sections  target  \n",
      "0  108.029       188493               4    41.18681        10       1  \n",
      "1  155.489       176880               3    33.18083         9       0  \n",
      "2  172.065       205463               4    44.89147         9       1  \n",
      "3   91.837       193043               4    29.52521         7       0  \n",
      "4  160.517       144244               4    24.99199         8       1   \n",
      "\n",
      "\n",
      "(6398, 19) \n",
      "\n",
      "\n",
      "<class 'pandas.core.frame.DataFrame'>\n",
      "RangeIndex: 6398 entries, 0 to 6397\n",
      "Data columns (total 19 columns):\n",
      " #   Column            Non-Null Count  Dtype  \n",
      "---  ------            --------------  -----  \n",
      " 0   track             6398 non-null   object \n",
      " 1   artist            6398 non-null   object \n",
      " 2   uri               6398 non-null   object \n",
      " 3   danceability      6398 non-null   float64\n",
      " 4   energy            6398 non-null   float64\n",
      " 5   key               6398 non-null   int64  \n",
      " 6   loudness          6398 non-null   float64\n",
      " 7   mode              6398 non-null   int64  \n",
      " 8   speechiness       6398 non-null   float64\n",
      " 9   acousticness      6398 non-null   float64\n",
      " 10  instrumentalness  6398 non-null   float64\n",
      " 11  liveness          6398 non-null   float64\n",
      " 12  valence           6398 non-null   float64\n",
      " 13  tempo             6398 non-null   float64\n",
      " 14  duration_ms       6398 non-null   int64  \n",
      " 15  time_signature    6398 non-null   int64  \n",
      " 16  chorus_hit        6398 non-null   float64\n",
      " 17  sections          6398 non-null   int64  \n",
      " 18  target            6398 non-null   int64  \n",
      "dtypes: float64(10), int64(6), object(3)\n",
      "memory usage: 949.8+ KB\n",
      "None \n",
      "\n",
      "\n"
     ]
    }
   ],
   "source": [
    "# Support Vector Machine Classification\n",
    "# Import libraries\n",
    "import pandas as pd\n",
    "import numpy as np\n",
    "import matplotlib.pyplot as plt\n",
    "\n",
    "# Import dataset\n",
    "dataset = pd.read_csv('dataset-of-10s.csv')\n",
    "print(dataset.head(), '\\n\\n')\n",
    "print(dataset.shape, '\\n\\n')\n",
    "print(dataset.info(), '\\n\\n')"
   ]
  },
  {
   "cell_type": "code",
   "execution_count": 2,
   "id": "2edb0c26",
   "metadata": {},
   "outputs": [
    {
     "name": "stdout",
     "output_type": "stream",
     "text": [
      "       danceability       energy          key     loudness         mode  \\\n",
      "count   6398.000000  6398.000000  6398.000000  6398.000000  6398.000000   \n",
      "mean       0.568163     0.667756     5.283526    -7.589796     0.645514   \n",
      "std        0.191103     0.240721     3.606216     5.234592     0.478395   \n",
      "min        0.062200     0.000251     0.000000   -46.655000     0.000000   \n",
      "25%        0.447000     0.533000     2.000000    -8.425000     0.000000   \n",
      "50%        0.588000     0.712500     5.000000    -6.096500     1.000000   \n",
      "75%        0.710000     0.857000     8.000000    -4.601250     1.000000   \n",
      "max        0.981000     0.999000    11.000000    -0.149000     1.000000   \n",
      "\n",
      "       speechiness  acousticness  instrumentalness     liveness      valence  \\\n",
      "count  6398.000000   6398.000000       6398.000000  6398.000000  6398.000000   \n",
      "mean      0.098018      0.216928          0.165293     0.196700     0.443734   \n",
      "std       0.097224      0.296835          0.318736     0.166148     0.245776   \n",
      "min       0.022500      0.000000          0.000000     0.016700     0.000000   \n",
      "25%       0.038825      0.008533          0.000000     0.096800     0.240000   \n",
      "50%       0.057200      0.067050          0.000017     0.126000     0.434000   \n",
      "75%       0.112000      0.311000          0.057650     0.249000     0.628000   \n",
      "max       0.956000      0.996000          0.995000     0.982000     0.976000   \n",
      "\n",
      "             tempo   duration_ms  time_signature   chorus_hit     sections  \\\n",
      "count  6398.000000  6.398000e+03     6398.000000  6398.000000  6398.000000   \n",
      "mean    122.353871  2.367042e+05        3.930916    41.028399    10.316505   \n",
      "std      29.847389  8.563698e+04        0.377469    19.568827     3.776011   \n",
      "min      39.369000  2.985300e+04        0.000000     0.000000     2.000000   \n",
      "25%      98.091250  1.932068e+05        4.000000    28.059135     8.000000   \n",
      "50%     121.070000  2.212465e+05        4.000000    36.265365    10.000000   \n",
      "75%     141.085000  2.593165e+05        4.000000    48.292538    12.000000   \n",
      "max     210.977000  1.734201e+06        5.000000   213.154990    88.000000   \n",
      "\n",
      "            target  \n",
      "count  6398.000000  \n",
      "mean      0.500000  \n",
      "std       0.500039  \n",
      "min       0.000000  \n",
      "25%       0.000000  \n",
      "50%       0.500000  \n",
      "75%       1.000000  \n",
      "max       1.000000   \n",
      "\n",
      "\n"
     ]
    }
   ],
   "source": [
    "# Check outliers\n",
    "print(dataset.describe(), '\\n\\n')"
   ]
  },
  {
   "cell_type": "code",
   "execution_count": 3,
   "id": "06305c94",
   "metadata": {},
   "outputs": [
    {
     "name": "stdout",
     "output_type": "stream",
     "text": [
      "track               0\n",
      "artist              0\n",
      "uri                 0\n",
      "danceability        0\n",
      "energy              0\n",
      "key                 0\n",
      "loudness            0\n",
      "mode                0\n",
      "speechiness         0\n",
      "acousticness        0\n",
      "instrumentalness    0\n",
      "liveness            0\n",
      "valence             0\n",
      "tempo               0\n",
      "duration_ms         0\n",
      "time_signature      0\n",
      "chorus_hit          0\n",
      "sections            0\n",
      "target              0\n",
      "dtype: int64\n"
     ]
    }
   ],
   "source": [
    "# Identify missing values\n",
    "print(dataset.isnull().sum())\n",
    "dataset = dataset.dropna()"
   ]
  },
  {
   "cell_type": "code",
   "execution_count": 4,
   "id": "508d4353",
   "metadata": {},
   "outputs": [
    {
     "name": "stdout",
     "output_type": "stream",
     "text": [
      "                                 track                          artist  \\\n",
      "0                          Wild Things                    Alessia Cara   \n",
      "1                            Surfboard                       Esquivel!   \n",
      "2                         Love Someone                    Lukas Graham   \n",
      "3  Music To My Ears (feat. Tory Lanez)                   Keys N Krates   \n",
      "4        Juju On That Beat (TZ Anthem)  Zay Hilfigerrr & Zayion McCall   \n",
      "\n",
      "                                    uri  danceability  energy  key  loudness  \\\n",
      "0  spotify:track:2ZyuwVvV6Z3XJaXIFbspeE         0.741   0.626    1    -4.826   \n",
      "1  spotify:track:61APOtq25SCMuK0V5w2Kgp         0.447   0.247    5   -14.661   \n",
      "2  spotify:track:2JqnpexlO9dmvjUMCaLCLJ         0.550   0.415    9    -6.557   \n",
      "3  spotify:track:0cjfLhk8WJ3etPTCseKXtk         0.502   0.648    0    -5.698   \n",
      "4  spotify:track:1lItf5ZXJc1by9SbPeljFd         0.807   0.887    1    -3.892   \n",
      "\n",
      "   mode  speechiness  acousticness  instrumentalness  liveness  valence  \\\n",
      "0     0       0.0886       0.02000             0.000    0.0828    0.706   \n",
      "1     0       0.0346       0.87100             0.814    0.0946    0.250   \n",
      "2     0       0.0520       0.16100             0.000    0.1080    0.274   \n",
      "3     0       0.0527       0.00513             0.000    0.2040    0.291   \n",
      "4     1       0.2750       0.00381             0.000    0.3910    0.780   \n",
      "\n",
      "     tempo  duration_ms  time_signature  chorus_hit  sections target  \n",
      "0  108.029       188493               4    41.18681        10    hit  \n",
      "1  155.489       176880               3    33.18083         9   flop  \n",
      "2  172.065       205463               4    44.89147         9    hit  \n",
      "3   91.837       193043               4    29.52521         7   flop  \n",
      "4  160.517       144244               4    24.99199         8    hit  \n"
     ]
    }
   ],
   "source": [
    "# Define the mapping of numerical data to categorical data\n",
    "mapping = {0: 'flop', 1: 'hit'}\n",
    "\n",
    "# Replace the numerical data to categorical data\n",
    "dataset['target'] = dataset['target'].replace(mapping)\n",
    "print(dataset.head())"
   ]
  },
  {
   "cell_type": "code",
   "execution_count": 5,
   "id": "4dbf5e2e",
   "metadata": {},
   "outputs": [
    {
     "name": "stdout",
     "output_type": "stream",
     "text": [
      "                                 track                          artist  \\\n",
      "0                          Wild Things                    Alessia Cara   \n",
      "1                            Surfboard                       Esquivel!   \n",
      "2                         Love Someone                    Lukas Graham   \n",
      "3  Music To My Ears (feat. Tory Lanez)                   Keys N Krates   \n",
      "4        Juju On That Beat (TZ Anthem)  Zay Hilfigerrr & Zayion McCall   \n",
      "\n",
      "                                    uri  danceability  energy  key  loudness  \\\n",
      "0  spotify:track:2ZyuwVvV6Z3XJaXIFbspeE         0.741   0.626    1    -4.826   \n",
      "1  spotify:track:61APOtq25SCMuK0V5w2Kgp         0.447   0.247    5   -14.661   \n",
      "2  spotify:track:2JqnpexlO9dmvjUMCaLCLJ         0.550   0.415    9    -6.557   \n",
      "3  spotify:track:0cjfLhk8WJ3etPTCseKXtk         0.502   0.648    0    -5.698   \n",
      "4  spotify:track:1lItf5ZXJc1by9SbPeljFd         0.807   0.887    1    -3.892   \n",
      "\n",
      "   mode  speechiness  acousticness  instrumentalness  liveness  valence  \\\n",
      "0     0       0.0886       0.02000             0.000    0.0828    0.706   \n",
      "1     0       0.0346       0.87100             0.814    0.0946    0.250   \n",
      "2     0       0.0520       0.16100             0.000    0.1080    0.274   \n",
      "3     0       0.0527       0.00513             0.000    0.2040    0.291   \n",
      "4     1       0.2750       0.00381             0.000    0.3910    0.780   \n",
      "\n",
      "     tempo  duration_ms  time_signature  chorus_hit  sections  target  \n",
      "0  108.029       188493               4    41.18681        10       1  \n",
      "1  155.489       176880               3    33.18083         9       0  \n",
      "2  172.065       205463               4    44.89147         9       1  \n",
      "3   91.837       193043               4    29.52521         7       0  \n",
      "4  160.517       144244               4    24.99199         8       1  \n"
     ]
    }
   ],
   "source": [
    "# Convert back the categorical data to numerical data - mode\n",
    "# Define the mapping of categorical data to numerical data\n",
    "mapping = {'flop': 0, 'hit': 1}\n",
    "\n",
    "# Replace the categorical data to numerical data\n",
    "dataset['target'] = dataset['target'].replace(mapping)\n",
    "print(dataset.head())"
   ]
  },
  {
   "cell_type": "code",
   "execution_count": 6,
   "id": "7e1c4e1c",
   "metadata": {},
   "outputs": [
    {
     "name": "stdout",
     "output_type": "stream",
     "text": [
      "0\n",
      "0\n"
     ]
    }
   ],
   "source": [
    "# Check duplicate rows\n",
    "print(dataset.duplicated().sum())\n",
    "\n",
    "# Drop duplicate rows\n",
    "dataset.drop_duplicates(inplace=True)\n",
    "print(dataset.duplicated().sum())"
   ]
  },
  {
   "cell_type": "code",
   "execution_count": 7,
   "id": "35e537dd",
   "metadata": {},
   "outputs": [
    {
     "name": "stdout",
     "output_type": "stream",
     "text": [
      "   danceability  energy  key  loudness  mode  speechiness  acousticness  \\\n",
      "0         0.741   0.626    1    -4.826     0       0.0886       0.02000   \n",
      "1         0.447   0.247    5   -14.661     0       0.0346       0.87100   \n",
      "2         0.550   0.415    9    -6.557     0       0.0520       0.16100   \n",
      "3         0.502   0.648    0    -5.698     0       0.0527       0.00513   \n",
      "4         0.807   0.887    1    -3.892     1       0.2750       0.00381   \n",
      "\n",
      "   instrumentalness  liveness  valence    tempo  duration_ms  time_signature  \\\n",
      "0             0.000    0.0828    0.706  108.029       188493               4   \n",
      "1             0.814    0.0946    0.250  155.489       176880               3   \n",
      "2             0.000    0.1080    0.274  172.065       205463               4   \n",
      "3             0.000    0.2040    0.291   91.837       193043               4   \n",
      "4             0.000    0.3910    0.780  160.517       144244               4   \n",
      "\n",
      "   chorus_hit  target  \n",
      "0    41.18681       1  \n",
      "1    33.18083       0  \n",
      "2    44.89147       1  \n",
      "3    29.52521       0  \n",
      "4    24.99199       1  \n"
     ]
    }
   ],
   "source": [
    "# Drop unnecessary columns\n",
    "dataset.drop(['track', 'artist', 'uri', 'sections'], axis=1, inplace=True)\n",
    "print(dataset.head())"
   ]
  },
  {
   "cell_type": "code",
   "execution_count": 8,
   "id": "0f02c58d",
   "metadata": {},
   "outputs": [
    {
     "name": "stdout",
     "output_type": "stream",
     "text": [
      "                  danceability    energy       key  loudness      mode  \\\n",
      "danceability          1.000000  0.069645  0.012429  0.300576 -0.057280   \n",
      "energy                0.069645  1.000000  0.028703  0.774536  0.004929   \n",
      "key                   0.012429  0.028703  1.000000  0.010824 -0.146063   \n",
      "loudness              0.300576  0.774536  0.010824  1.000000  0.021064   \n",
      "mode                 -0.057280  0.004929 -0.146063  0.021064  1.000000   \n",
      "speechiness           0.200090  0.119194  0.022796  0.122028 -0.090107   \n",
      "acousticness         -0.206865 -0.734853 -0.021271 -0.648717  0.011424   \n",
      "instrumentalness     -0.371334 -0.288263 -0.013049 -0.533671 -0.037132   \n",
      "liveness             -0.107581  0.231393  0.021785  0.126807 -0.011590   \n",
      "valence               0.494136  0.281031  0.019572  0.324985  0.018198   \n",
      "tempo                -0.056197  0.216886  0.009259  0.194467  0.032180   \n",
      "duration_ms          -0.224803 -0.009228  0.011028 -0.094598 -0.042125   \n",
      "time_signature        0.178671  0.175984 -0.008462  0.207436  0.014125   \n",
      "chorus_hit           -0.078254 -0.001224  0.001960 -0.042665 -0.007967   \n",
      "target                0.384486  0.060701  0.005548  0.327471  0.032021   \n",
      "\n",
      "                  speechiness  acousticness  instrumentalness  liveness  \\\n",
      "danceability         0.200090     -0.206865         -0.371334 -0.107581   \n",
      "energy               0.119194     -0.734853         -0.288263  0.231393   \n",
      "key                  0.022796     -0.021271         -0.013049  0.021785   \n",
      "loudness             0.122028     -0.648717         -0.533671  0.126807   \n",
      "mode                -0.090107      0.011424         -0.037132 -0.011590   \n",
      "speechiness          1.000000     -0.134226         -0.148649  0.121075   \n",
      "acousticness        -0.134226      1.000000          0.315563 -0.149926   \n",
      "instrumentalness    -0.148649      0.315563          1.000000 -0.049879   \n",
      "liveness             0.121075     -0.149926         -0.049879  1.000000   \n",
      "valence              0.053836     -0.166253         -0.334662 -0.016562   \n",
      "tempo                0.117813     -0.182050         -0.083487  0.038555   \n",
      "duration_ms         -0.071826     -0.039567          0.183696  0.040219   \n",
      "time_signature       0.063656     -0.191607         -0.133629  0.026185   \n",
      "chorus_hit           0.001857      0.001477          0.093847  0.043099   \n",
      "target               0.097783     -0.184479         -0.499624 -0.062612   \n",
      "\n",
      "                   valence     tempo  duration_ms  time_signature  chorus_hit  \\\n",
      "danceability      0.494136 -0.056197    -0.224803        0.178671   -0.078254   \n",
      "energy            0.281031  0.216886    -0.009228        0.175984   -0.001224   \n",
      "key               0.019572  0.009259     0.011028       -0.008462    0.001960   \n",
      "loudness          0.324985  0.194467    -0.094598        0.207436   -0.042665   \n",
      "mode              0.018198  0.032180    -0.042125        0.014125   -0.007967   \n",
      "speechiness       0.053836  0.117813    -0.071826        0.063656    0.001857   \n",
      "acousticness     -0.166253 -0.182050    -0.039567       -0.191607    0.001477   \n",
      "instrumentalness -0.334662 -0.083487     0.183696       -0.133629    0.093847   \n",
      "liveness         -0.016562  0.038555     0.040219        0.026185    0.043099   \n",
      "valence           1.000000  0.053572    -0.248445        0.117049   -0.103274   \n",
      "tempo             0.053572  1.000000    -0.019830        0.025892   -0.060944   \n",
      "duration_ms      -0.248445 -0.019830     1.000000        0.000599    0.096040   \n",
      "time_signature    0.117049  0.025892     0.000599        1.000000   -0.031763   \n",
      "chorus_hit       -0.103274 -0.060944     0.096040       -0.031763    1.000000   \n",
      "target            0.203774  0.039226    -0.189203        0.127544   -0.085587   \n",
      "\n",
      "                    target  \n",
      "danceability      0.384486  \n",
      "energy            0.060701  \n",
      "key               0.005548  \n",
      "loudness          0.327471  \n",
      "mode              0.032021  \n",
      "speechiness       0.097783  \n",
      "acousticness     -0.184479  \n",
      "instrumentalness -0.499624  \n",
      "liveness         -0.062612  \n",
      "valence           0.203774  \n",
      "tempo             0.039226  \n",
      "duration_ms      -0.189203  \n",
      "time_signature    0.127544  \n",
      "chorus_hit       -0.085587  \n",
      "target            1.000000  \n"
     ]
    },
    {
     "name": "stdout",
     "output_type": "stream",
     "text": [
      "target              1.000000\n",
      "danceability        0.384486\n",
      "loudness            0.327471\n",
      "valence             0.203774\n",
      "time_signature      0.127544\n",
      "speechiness         0.097783\n",
      "energy              0.060701\n",
      "tempo               0.039226\n",
      "mode                0.032021\n",
      "key                 0.005548\n",
      "liveness           -0.062612\n",
      "chorus_hit         -0.085587\n",
      "acousticness       -0.184479\n",
      "duration_ms        -0.189203\n",
      "instrumentalness   -0.499624\n",
      "Name: target, dtype: float64\n"
     ]
    },
    {
     "data": {
      "image/png": "[encoded data removed]",
      "text/plain": [
       "<Figure size 640x480 with 2 Axes>"
      ]
     },
     "metadata": {},
     "output_type": "display_data"
    },
    {
     "name": "stdout",
     "output_type": "stream",
     "text": [
      "   danceability  energy  loudness  speechiness  acousticness  \\\n",
      "0         0.741   0.626    -4.826       0.0886       0.02000   \n",
      "1         0.447   0.247   -14.661       0.0346       0.87100   \n",
      "2         0.550   0.415    -6.557       0.0520       0.16100   \n",
      "3         0.502   0.648    -5.698       0.0527       0.00513   \n",
      "4         0.807   0.887    -3.892       0.2750       0.00381   \n",
      "\n",
      "   instrumentalness  liveness  valence  duration_ms  time_signature  \\\n",
      "0             0.000    0.0828    0.706       188493               4   \n",
      "1             0.814    0.0946    0.250       176880               3   \n",
      "2             0.000    0.1080    0.274       205463               4   \n",
      "3             0.000    0.2040    0.291       193043               4   \n",
      "4             0.000    0.3910    0.780       144244               4   \n",
      "\n",
      "   chorus_hit  target  \n",
      "0    41.18681       1  \n",
      "1    33.18083       0  \n",
      "2    44.89147       1  \n",
      "3    29.52521       0  \n",
      "4    24.99199       1  \n"
     ]
    }
   ],
   "source": [
    "# Correlation matrix\n",
    "print(dataset.corr())\n",
    "\n",
    "# Data Visualization\n",
    "import seaborn as sns\n",
    "corr = dataset.corr().sort_values(by='target', ascending=False)\n",
    "print(corr['target'])\n",
    "sns.heatmap(corr['target'].drop('target').to_frame(), cmap='coolwarm', annot=True, fmt='.2f')\n",
    "plt.show()\n",
    "\n",
    "# Drop weak correlated columns\n",
    "dataset.drop(['tempo', 'mode', 'key'], axis=1, inplace=True)\n",
    "print(dataset.head())"
   ]
  },
  {
   "cell_type": "code",
   "execution_count": 9,
   "id": "95127a96",
   "metadata": {},
   "outputs": [
    {
     "name": "stdout",
     "output_type": "stream",
     "text": [
      "[[ 7.410000e-01  6.260000e-01 -4.826000e+00 ...  1.884930e+05\n",
      "   4.000000e+00  4.118681e+01]\n",
      " [ 4.470000e-01  2.470000e-01 -1.466100e+01 ...  1.768800e+05\n",
      "   3.000000e+00  3.318083e+01]\n",
      " [ 5.500000e-01  4.150000e-01 -6.557000e+00 ...  2.054630e+05\n",
      "   4.000000e+00  4.489147e+01]\n",
      " ...\n",
      " [ 7.190000e-01  8.040000e-01 -4.581000e+00 ...  2.277600e+05\n",
      "   4.000000e+00  2.073371e+01]\n",
      " [ 6.000000e-01  1.770000e-01 -1.607000e+01 ...  2.133870e+05\n",
      "   4.000000e+00  2.165301e+01]\n",
      " [ 1.210000e-01  1.230000e-01 -2.302500e+01 ...  3.413960e+05\n",
      "   4.000000e+00  7.105343e+01]] \n",
      "\n",
      "\n",
      "[1 0 1 ... 1 0 0] \n",
      "\n",
      "\n"
     ]
    }
   ],
   "source": [
    "# Split dataset into independent & dependent variables\n",
    "x = dataset.iloc[:, :-1].values\n",
    "y = dataset.iloc[:, -1].values\n",
    "\n",
    "print(x, '\\n\\n')\n",
    "print(y, '\\n\\n')"
   ]
  },
  {
   "cell_type": "code",
   "execution_count": 10,
   "id": "9945842a",
   "metadata": {},
   "outputs": [
    {
     "name": "stdout",
     "output_type": "stream",
     "text": [
      "[[ 5.980000e-01  5.120000e-01 -7.717000e+00 ...  1.849730e+05\n",
      "   4.000000e+00  2.505959e+01]\n",
      " [ 4.050000e-01  3.710000e-01 -7.187000e+00 ...  2.041730e+05\n",
      "   4.000000e+00  5.919716e+01]\n",
      " [ 5.730000e-01  9.230000e-01 -5.509000e+00 ...  3.503070e+05\n",
      "   3.000000e+00  4.765464e+01]\n",
      " ...\n",
      " [ 4.970000e-01  8.050000e-01 -3.995000e+00 ...  1.918270e+05\n",
      "   4.000000e+00  4.038049e+01]\n",
      " [ 6.160000e-01  4.740000e-01 -9.608000e+00 ...  2.101330e+05\n",
      "   4.000000e+00  2.382185e+01]\n",
      " [ 5.110000e-01  7.340000e-01 -6.025000e+00 ...  2.761600e+05\n",
      "   5.000000e+00  2.968708e+01]] \n",
      "\n",
      "\n",
      "[[ 5.680000e-01  5.170000e-01 -1.065100e+01 ...  2.518530e+05\n",
      "   4.000000e+00  3.579782e+01]\n",
      " [ 6.760000e-01  6.150000e-01 -7.534000e+00 ...  1.766750e+05\n",
      "   4.000000e+00  3.410738e+01]\n",
      " [ 4.890000e-01  9.350000e-01 -1.358200e+01 ...  4.350000e+05\n",
      "   4.000000e+00  3.710120e+01]\n",
      " ...\n",
      " [ 3.210000e-01  1.000000e-01 -2.157500e+01 ...  2.173820e+05\n",
      "   4.000000e+00  4.342380e+01]\n",
      " [ 8.330000e-01  6.380000e-01 -9.119000e+00 ...  2.159870e+05\n",
      "   4.000000e+00  3.972210e+01]\n",
      " [ 9.290000e-01  5.720000e-01 -6.928000e+00 ...  2.372310e+05\n",
      "   4.000000e+00  5.240126e+01]] \n",
      "\n",
      "\n",
      "[0 1 0 ... 1 1 1] \n",
      "\n",
      "\n",
      "[0 1 0 ... 0 1 0] \n",
      "\n",
      "\n"
     ]
    }
   ],
   "source": [
    "# Split dataset into training & test sets\n",
    "from sklearn.model_selection import train_test_split\n",
    "x_train, x_test, y_train, y_test = train_test_split(x, y, test_size=0.2, random_state=0)\n",
    "\n",
    "print(x_train, '\\n\\n')\n",
    "print(x_test, '\\n\\n')\n",
    "print(y_train, '\\n\\n')\n",
    "print(y_test, '\\n\\n')"
   ]
  },
  {
   "cell_type": "code",
   "execution_count": 11,
   "id": "f12d97d4",
   "metadata": {},
   "outputs": [
    {
     "name": "stdout",
     "output_type": "stream",
     "text": [
      "[[ 0.15219959 -0.63561151 -0.02027313 ... -0.60332095  0.17925716\n",
      "  -0.81208105]\n",
      " [-0.85922732 -1.21964233  0.08060052 ... -0.38110552  0.17925716\n",
      "   0.90967085]\n",
      " [ 0.02118574  1.06677618  0.3999703  ...  1.31020855 -2.47998385\n",
      "   0.32751589]\n",
      " ...\n",
      " [-0.37709636  0.5780128   0.68812635 ... -0.52399467  0.17925716\n",
      "  -0.03936089]\n",
      " [ 0.24652956 -0.79300989 -0.3801827  ... -0.31212614  0.17925716\n",
      "  -0.87450732]\n",
      " [-0.3037286   0.28392636  0.30176124 ...  0.4520519   2.83849817\n",
      "  -0.5786904 ]] \n",
      "\n",
      "\n",
      "[[-5.01702659e-03 -6.14901200e-01 -5.78694428e-01 ...  1.70729475e-01\n",
      "   1.79257160e-01 -2.70491009e-01]\n",
      " [ 5.60962797e-01 -2.08979074e-01  1.45568292e-02 ... -6.99359680e-01\n",
      "   1.79257160e-01 -3.55749517e-01]\n",
      " [-4.19020787e-01  1.11648093e+00 -1.13654474e+00 ...  2.29042165e+00\n",
      "   1.79257160e-01 -2.04754140e-01]\n",
      " ...\n",
      " [-1.29943385e+00 -2.34214126e+00 -2.65783358e+00 ... -2.28228242e-01\n",
      "   1.79257160e-01  1.14130553e-01]\n",
      " [ 1.38372976e+00 -1.13711637e-01 -2.87112482e-01 ... -2.44373582e-01\n",
      "   1.79257160e-01 -7.25672401e-02]\n",
      " [ 1.88682294e+00 -3.87087762e-01  1.29895380e-01 ...  1.49853448e-03\n",
      "   1.79257160e-01  5.66914941e-01]] \n",
      "\n",
      "\n"
     ]
    }
   ],
   "source": [
    "# Feature scaling\n",
    "from sklearn.preprocessing import StandardScaler\n",
    "sc = StandardScaler()\n",
    "x_train = sc.fit_transform(x_train)\n",
    "x_test = sc.transform(x_test)\n",
    "\n",
    "print(x_train, '\\n\\n')\n",
    "print(x_test, '\\n\\n')"
   ]
  },
  {
   "cell_type": "code",
   "execution_count": 12,
   "id": "6cf3a807",
   "metadata": {},
   "outputs": [
    {
     "data": {
      "text/html": [
       "<style>#sk-container-id-1 {color: black;background-color: white;}#sk-container-id-1 pre{padding: 0;}#sk-container-id-1 div.sk-toggleable {background-color: white;}#sk-container-id-1 label.sk-toggleable__label {cursor: pointer;display: block;width: 100%;margin-bottom: 0;padding: 0.3em;box-sizing: border-box;text-align: center;}#sk-container-id-1 label.sk-toggleable__label-arrow:before {content: \"▸\";float: left;margin-right: 0.25em;color: #696969;}#sk-container-id-1 label.sk-toggleable__label-arrow:hover:before {color: black;}#sk-container-id-1 div.sk-estimator:hover label.sk-toggleable__label-arrow:before {color: black;}#sk-container-id-1 div.sk-toggleable__content {max-height: 0;max-width: 0;overflow: hidden;text-align: left;background-color: #f0f8ff;}#sk-container-id-1 div.sk-toggleable__content pre {margin: 0.2em;color: black;border-radius: 0.25em;background-color: #f0f8ff;}#sk-container-id-1 input.sk-toggleable__control:checked~div.sk-toggleable__content {max-height: 200px;max-width: 100%;overflow: auto;}#sk-container-id-1 input.sk-toggleable__control:checked~label.sk-toggleable__label-arrow:before {content: \"▾\";}#sk-container-id-1 div.sk-estimator input.sk-toggleable__control:checked~label.sk-toggleable__label {background-color: #d4ebff;}#sk-container-id-1 div.sk-label input.sk-toggleable__control:checked~label.sk-toggleable__label {background-color: #d4ebff;}#sk-container-id-1 input.sk-hidden--visually {border: 0;clip: rect(1px 1px 1px 1px);clip: rect(1px, 1px, 1px, 1px);height: 1px;margin: -1px;overflow: hidden;padding: 0;position: absolute;width: 1px;}#sk-container-id-1 div.sk-estimator {font-family: monospace;background-color: #f0f8ff;border: 1px dotted black;border-radius: 0.25em;box-sizing: border-box;margin-bottom: 0.5em;}#sk-container-id-1 div.sk-estimator:hover {background-color: #d4ebff;}#sk-container-id-1 div.sk-parallel-item::after {content: \"\";width: 100%;border-bottom: 1px solid gray;flex-grow: 1;}#sk-container-id-1 div.sk-label:hover label.sk-toggleable__label {background-color: #d4ebff;}#sk-container-id-1 div.sk-serial::before {content: \"\";position: absolute;border-left: 1px solid gray;box-sizing: border-box;top: 0;bottom: 0;left: 50%;z-index: 0;}#sk-container-id-1 div.sk-serial {display: flex;flex-direction: column;align-items: center;background-color: white;padding-right: 0.2em;padding-left: 0.2em;position: relative;}#sk-container-id-1 div.sk-item {position: relative;z-index: 1;}#sk-container-id-1 div.sk-parallel {display: flex;align-items: stretch;justify-content: center;background-color: white;position: relative;}#sk-container-id-1 div.sk-item::before, #sk-container-id-1 div.sk-parallel-item::before {content: \"\";position: absolute;border-left: 1px solid gray;box-sizing: border-box;top: 0;bottom: 0;left: 50%;z-index: -1;}#sk-container-id-1 div.sk-parallel-item {display: flex;flex-direction: column;z-index: 1;position: relative;background-color: white;}#sk-container-id-1 div.sk-parallel-item:first-child::after {align-self: flex-end;width: 50%;}#sk-container-id-1 div.sk-parallel-item:last-child::after {align-self: flex-start;width: 50%;}#sk-container-id-1 div.sk-parallel-item:only-child::after {width: 0;}#sk-container-id-1 div.sk-dashed-wrapped {border: 1px dashed gray;margin: 0 0.4em 0.5em 0.4em;box-sizing: border-box;padding-bottom: 0.4em;background-color: white;}#sk-container-id-1 div.sk-label label {font-family: monospace;font-weight: bold;display: inline-block;line-height: 1.2em;}#sk-container-id-1 div.sk-label-container {text-align: center;}#sk-container-id-1 div.sk-container {/* jupyter's `normalize.less` sets `[hidden] { display: none; }` but bootstrap.min.css set `[hidden] { display: none !important; }` so we also need the `!important` here to be able to override the default hidden behavior on the sphinx rendered scikit-learn.org. See: https://github.com/scikit-learn/scikit-learn/issues/21755 */display: inline-block !important;position: relative;}#sk-container-id-1 div.sk-text-repr-fallback {display: none;}</style><div id=\"sk-container-id-1\" class=\"sk-top-container\"><div class=\"sk-text-repr-fallback\"><pre>RandomForestClassifier(criterion=&#x27;entropy&#x27;, n_estimators=50, random_state=0)</pre><b>In a Jupyter environment, please rerun this cell to show the HTML representation or trust the notebook. <br />On GitHub, the HTML representation is unable to render, please try loading this page with nbviewer.org.</b></div><div class=\"sk-container\" hidden><div class=\"sk-item\"><div class=\"sk-estimator sk-toggleable\"><input class=\"sk-toggleable__control sk-hidden--visually\" id=\"sk-estimator-id-1\" type=\"checkbox\" checked><label for=\"sk-estimator-id-1\" class=\"sk-toggleable__label sk-toggleable__label-arrow\">RandomForestClassifier</label><div class=\"sk-toggleable__content\"><pre>RandomForestClassifier(criterion=&#x27;entropy&#x27;, n_estimators=50, random_state=0)</pre></div></div></div></div></div>"
      ],
      "text/plain": [
       "RandomForestClassifier(criterion='entropy', n_estimators=50, random_state=0)"
      ]
     },
     "execution_count": 12,
     "metadata": {},
     "output_type": "execute_result"
    }
   ],
   "source": [
    "# Fitting SVM classifier to the training set\n",
    "from sklearn.svm import SVC\n",
    "classifierSVM = SVC(kernel='linear', random_state=0)\n",
    "classifierSVM.fit(x_train, y_train)\n",
    "\n",
    "# Fitting Random Forest classifier to the training set\n",
    "from sklearn.ensemble import RandomForestClassifier\n",
    "classifierRF = RandomForestClassifier(n_estimators=50, criterion='entropy', random_state=0)\n",
    "classifierRF.fit(x_train, y_train)"
   ]
  },
  {
   "cell_type": "code",
   "execution_count": 13,
   "id": "2a453de4",
   "metadata": {},
   "outputs": [
    {
     "name": "stdout",
     "output_type": "stream",
     "text": [
      "[1 1 0 ... 0 1 1] \n",
      "\n",
      "\n",
      "[1 1 0 ... 0 1 1] \n",
      "\n",
      "\n"
     ]
    }
   ],
   "source": [
    "# Predict test set results\n",
    "y_predSVM = classifierSVM.predict(x_test)\n",
    "y_predRF = classifierRF.predict(x_test)\n",
    "print(y_predSVM, '\\n\\n')\n",
    "print(y_predRF, '\\n\\n')"
   ]
  },
  {
   "cell_type": "code",
   "execution_count": 14,
   "id": "6d4f7148",
   "metadata": {},
   "outputs": [
    {
     "name": "stdout",
     "output_type": "stream",
     "text": [
      "[[441 174]\n",
      " [ 62 603]] \n",
      "\n",
      "\n"
     ]
    },
    {
     "data": {
      "image/png": "[encoded data removed]",
      "text/plain": [
       "<Figure size 1000x700 with 2 Axes>"
      ]
     },
     "metadata": {},
     "output_type": "display_data"
    },
    {
     "name": "stdout",
     "output_type": "stream",
     "text": [
      "[[494 121]\n",
      " [ 81 584]] \n",
      "\n",
      "\n"
     ]
    },
    {
     "data": {
      "image/png": "[encoded data removed]",
      "text/plain": [
       "<Figure size 1000x700 with 2 Axes>"
      ]
     },
     "metadata": {},
     "output_type": "display_data"
    }
   ],
   "source": [
    "# Confusion Matrix for SVM\n",
    "from sklearn.metrics import confusion_matrix\n",
    "cmSVM = confusion_matrix(y_test, y_predSVM)\n",
    "print(cmSVM, '\\n\\n')\n",
    "\n",
    "# Plot Confusion Matrix for SVM\n",
    "import seaborn as sns\n",
    "plt.figure(figsize=(10, 7))\n",
    "sns.heatmap(cmSVM, annot=True, cmap='Blues', fmt='d')\n",
    "plt.xlabel('Predicted')\n",
    "plt.ylabel('Actual')\n",
    "plt.title('Confusion Matrix SVM')\n",
    "plt.show()\n",
    "\n",
    "# Confusion Matrix for RF\n",
    "from sklearn.metrics import confusion_matrix\n",
    "cmRF = confusion_matrix(y_test, y_predRF)\n",
    "print(cmRF, '\\n\\n')\n",
    "\n",
    "# Plot Confusion Matrix for RF\n",
    "import seaborn as sns\n",
    "plt.figure(figsize=(10, 7))\n",
    "sns.heatmap(cmRF, annot=True, cmap='Greens', fmt='d')\n",
    "plt.xlabel('Predicted')\n",
    "plt.ylabel('Actual')\n",
    "plt.title('Confusion Matrix RF')\n",
    "plt.show()"
   ]
  },
  {
   "cell_type": "code",
   "execution_count": 15,
   "id": "3d2ed79a",
   "metadata": {},
   "outputs": [
    {
     "name": "stdout",
     "output_type": "stream",
     "text": [
      "Support Vector Machine Classifier\n",
      "Precision Score:  0.824434306324217\n",
      "Recall Score:  0.815625\n",
      "F1 Score:  0.813549952672074\n",
      "Accuracy Score:  0.815625 \n",
      "\n",
      "\n",
      "Random Forest Classifier\n",
      "Precision Score:  0.8431488012642614\n",
      "Recall Score:  0.8421875\n",
      "F1 Score:  0.8418390211924185\n",
      "Accuracy Score:  0.8421875\n"
     ]
    }
   ],
   "source": [
    "# Precision score, recall score, f-score and accuracy score for SVM\n",
    "from sklearn.metrics import precision_score, recall_score, f1_score, accuracy_score\n",
    "print('Support Vector Machine Classifier')\n",
    "print('Precision Score: ', precision_score(y_test, y_predSVM, average='weighted'))\n",
    "print('Recall Score: ', recall_score(y_test, y_predSVM, average='weighted'))\n",
    "print('F1 Score: ', f1_score(y_test, y_predSVM, average='weighted'))\n",
    "print('Accuracy Score: ', accuracy_score(y_test, y_predSVM), '\\n\\n')\n",
    "\n",
    "# Precision score, recall score, f-score and accuracy score for RF\n",
    "print('Random Forest Classifier')\n",
    "print('Precision Score: ', precision_score(y_test, y_predRF, average='weighted'))\n",
    "print('Recall Score: ', recall_score(y_test, y_predRF, average='weighted'))\n",
    "print('F1 Score: ', f1_score(y_test, y_predRF, average='weighted'))\n",
    "print('Accuracy Score: ', accuracy_score(y_test, y_predRF))"
   ]
  },
  {
   "cell_type": "code",
   "execution_count": 16,
   "id": "6480fcc9",
   "metadata": {},
   "outputs": [],
   "source": [
    "# In conclusion, Random Forest Classifier shows the highest accuracy score compare to SVM Classifier.\n",
    "# Thus, Random Forest Classifier is the best model for this dataset.\n",
    "# Random forest classifier model saved to pickle file\n",
    "import pickle\n",
    "pickle.dump(classifierRF, open('spotify_rf.pkl', 'wb'))"
   ]
  }
 ],
 "metadata": {
  "kernelspec": {
   "display_name": "Python 3 (ipykernel)",
   "language": "python",
   "name": "python3"
  },
  "language_info": {
   "codemirror_mode": {
    "name": "ipython",
    "version": 3
   },
   "file_extension": ".py",
   "mimetype": "text/x-python",
   "name": "python",
   "nbconvert_exporter": "python",
   "pygments_lexer": "ipython3",
   "version": "3.10.9"
  }
 },
 "nbformat": 4,
 "nbformat_minor": 5
}
