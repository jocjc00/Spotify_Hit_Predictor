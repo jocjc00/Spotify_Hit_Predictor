{
 "cells": [
  {
   "cell_type": "markdown",
   "id": "0a7e197b",
   "metadata": {},
   "source": [
    "# BCI3333 Machine Learning Application - Final Assessment\n",
    "\n",
    "# Chaw Jo Chia CB20130\n",
    "\n",
    "## Spotify Hit Predictor: dataset-of-10s.csv (https://www.kaggle.com/datasets/theoverman/the-spotify-hit-predictor-dataset?select=dataset-of-10s.csv)\n",
    "\n",
    "## SVM & Random Forest Classifier"
   ]
  },
  {
   "cell_type": "code",
   "execution_count": 1,
   "id": "14dc8512",
   "metadata": {},
   "outputs": [
    {
     "name": "stdout",
     "output_type": "stream",
     "text": [
      "                                 track                          artist  \\\n",
      "0                          Wild Things                    Alessia Cara   \n",
      "1                            Surfboard                       Esquivel!   \n",
      "2                         Love Someone                    Lukas Graham   \n",
      "3  Music To My Ears (feat. Tory Lanez)                   Keys N Krates   \n",
      "4        Juju On That Beat (TZ Anthem)  Zay Hilfigerrr & Zayion McCall   \n",
      "\n",
      "                                    uri  danceability  energy  key  loudness  \\\n",
      "0  spotify:track:2ZyuwVvV6Z3XJaXIFbspeE         0.741   0.626    1    -4.826   \n",
      "1  spotify:track:61APOtq25SCMuK0V5w2Kgp         0.447   0.247    5   -14.661   \n",
      "2  spotify:track:2JqnpexlO9dmvjUMCaLCLJ         0.550   0.415    9    -6.557   \n",
      "3  spotify:track:0cjfLhk8WJ3etPTCseKXtk         0.502   0.648    0    -5.698   \n",
      "4  spotify:track:1lItf5ZXJc1by9SbPeljFd         0.807   0.887    1    -3.892   \n",
      "\n",
      "   mode  speechiness  acousticness  instrumentalness  liveness  valence  \\\n",
      "0     0       0.0886       0.02000             0.000    0.0828    0.706   \n",
      "1     0       0.0346       0.87100             0.814    0.0946    0.250   \n",
      "2     0       0.0520       0.16100             0.000    0.1080    0.274   \n",
      "3     0       0.0527       0.00513             0.000    0.2040    0.291   \n",
      "4     1       0.2750       0.00381             0.000    0.3910    0.780   \n",
      "\n",
      "     tempo  duration_ms  time_signature  chorus_hit  sections  target  \n",
      "0  108.029       188493               4    41.18681        10       1  \n",
      "1  155.489       176880               3    33.18083         9       0  \n",
      "2  172.065       205463               4    44.89147         9       1  \n",
      "3   91.837       193043               4    29.52521         7       0  \n",
      "4  160.517       144244               4    24.99199         8       1   \n",
      "\n",
      "\n",
      "(6398, 19) \n",
      "\n",
      "\n",
      "<class 'pandas.core.frame.DataFrame'>\n",
      "RangeIndex: 6398 entries, 0 to 6397\n",
      "Data columns (total 19 columns):\n",
      " #   Column            Non-Null Count  Dtype  \n",
      "---  ------            --------------  -----  \n",
      " 0   track             6398 non-null   object \n",
      " 1   artist            6398 non-null   object \n",
      " 2   uri               6398 non-null   object \n",
      " 3   danceability      6398 non-null   float64\n",
      " 4   energy            6398 non-null   float64\n",
      " 5   key               6398 non-null   int64  \n",
      " 6   loudness          6398 non-null   float64\n",
      " 7   mode              6398 non-null   int64  \n",
      " 8   speechiness       6398 non-null   float64\n",
      " 9   acousticness      6398 non-null   float64\n",
      " 10  instrumentalness  6398 non-null   float64\n",
      " 11  liveness          6398 non-null   float64\n",
      " 12  valence           6398 non-null   float64\n",
      " 13  tempo             6398 non-null   float64\n",
      " 14  duration_ms       6398 non-null   int64  \n",
      " 15  time_signature    6398 non-null   int64  \n",
      " 16  chorus_hit        6398 non-null   float64\n",
      " 17  sections          6398 non-null   int64  \n",
      " 18  target            6398 non-null   int64  \n",
      "dtypes: float64(10), int64(6), object(3)\n",
      "memory usage: 949.8+ KB\n",
      "None \n",
      "\n",
      "\n"
     ]
    }
   ],
   "source": [
    "# Support Vector Machine Classification\n",
    "# Import libraries\n",
    "import pandas as pd\n",
    "import numpy as np\n",
    "import matplotlib.pyplot as plt\n",
    "\n",
    "# Import dataset\n",
    "dataset = pd.read_csv('dataset-of-10s.csv')\n",
    "print(dataset.head(), '\\n\\n')\n",
    "print(dataset.shape, '\\n\\n')\n",
    "print(dataset.info(), '\\n\\n')"
   ]
  },
  {
   "cell_type": "code",
   "execution_count": 2,
   "id": "60437f88",
   "metadata": {},
   "outputs": [
    {
     "name": "stdout",
     "output_type": "stream",
     "text": [
      "   danceability  energy  key  loudness  mode  speechiness  acousticness  \\\n",
      "0         0.741   0.626    1    -4.826     0       0.0886       0.02000   \n",
      "1         0.447   0.247    5   -14.661     0       0.0346       0.87100   \n",
      "2         0.550   0.415    9    -6.557     0       0.0520       0.16100   \n",
      "3         0.502   0.648    0    -5.698     0       0.0527       0.00513   \n",
      "4         0.807   0.887    1    -3.892     1       0.2750       0.00381   \n",
      "\n",
      "   instrumentalness  liveness  valence    tempo  duration_ms  time_signature  \\\n",
      "0             0.000    0.0828    0.706  108.029       188493               4   \n",
      "1             0.814    0.0946    0.250  155.489       176880               3   \n",
      "2             0.000    0.1080    0.274  172.065       205463               4   \n",
      "3             0.000    0.2040    0.291   91.837       193043               4   \n",
      "4             0.000    0.3910    0.780  160.517       144244               4   \n",
      "\n",
      "   chorus_hit  sections  target  \n",
      "0    41.18681        10       1  \n",
      "1    33.18083         9       0  \n",
      "2    44.89147         9       1  \n",
      "3    29.52521         7       0  \n",
      "4    24.99199         8       1  \n"
     ]
    }
   ],
   "source": [
    "# Drop unnecessary columns\n",
    "dataset.drop(['track', 'artist', 'uri'], axis=1, inplace=True)\n",
    "print(dataset.head())"
   ]
  },
  {
   "cell_type": "code",
   "execution_count": 3,
   "id": "06305c94",
   "metadata": {},
   "outputs": [
    {
     "name": "stdout",
     "output_type": "stream",
     "text": [
      "danceability        0\n",
      "energy              0\n",
      "key                 0\n",
      "loudness            0\n",
      "mode                0\n",
      "speechiness         0\n",
      "acousticness        0\n",
      "instrumentalness    0\n",
      "liveness            0\n",
      "valence             0\n",
      "tempo               0\n",
      "duration_ms         0\n",
      "time_signature      0\n",
      "chorus_hit          0\n",
      "sections            0\n",
      "target              0\n",
      "dtype: int64\n"
     ]
    }
   ],
   "source": [
    "# Identify missing values\n",
    "print(dataset.isnull().sum())"
   ]
  },
  {
   "cell_type": "code",
   "execution_count": 4,
   "id": "508d4353",
   "metadata": {},
   "outputs": [
    {
     "name": "stdout",
     "output_type": "stream",
     "text": [
      "   danceability  energy  key  loudness  mode  speechiness  acousticness  \\\n",
      "0         0.741   0.626    1    -4.826     0       0.0886       0.02000   \n",
      "1         0.447   0.247    5   -14.661     0       0.0346       0.87100   \n",
      "2         0.550   0.415    9    -6.557     0       0.0520       0.16100   \n",
      "3         0.502   0.648    0    -5.698     0       0.0527       0.00513   \n",
      "4         0.807   0.887    1    -3.892     1       0.2750       0.00381   \n",
      "\n",
      "   instrumentalness  liveness  valence    tempo  duration_ms  time_signature  \\\n",
      "0             0.000    0.0828    0.706  108.029       188493               4   \n",
      "1             0.814    0.0946    0.250  155.489       176880               3   \n",
      "2             0.000    0.1080    0.274  172.065       205463               4   \n",
      "3             0.000    0.2040    0.291   91.837       193043               4   \n",
      "4             0.000    0.3910    0.780  160.517       144244               4   \n",
      "\n",
      "   chorus_hit  sections target  \n",
      "0    41.18681        10    hit  \n",
      "1    33.18083         9   flop  \n",
      "2    44.89147         9    hit  \n",
      "3    29.52521         7   flop  \n",
      "4    24.99199         8    hit  \n"
     ]
    }
   ],
   "source": [
    "# Define the mapping of numerical data to categorical data\n",
    "mapping = {0: 'flop', 1: 'hit'}\n",
    "\n",
    "# Replace the numerical data to categorical data\n",
    "dataset['target'] = dataset['target'].replace(mapping)\n",
    "print(dataset.head())"
   ]
  },
  {
   "cell_type": "code",
   "execution_count": 5,
   "id": "4dbf5e2e",
   "metadata": {},
   "outputs": [
    {
     "name": "stdout",
     "output_type": "stream",
     "text": [
      "   danceability  energy  key  loudness  mode  speechiness  acousticness  \\\n",
      "0         0.741   0.626    1    -4.826     0       0.0886       0.02000   \n",
      "1         0.447   0.247    5   -14.661     0       0.0346       0.87100   \n",
      "2         0.550   0.415    9    -6.557     0       0.0520       0.16100   \n",
      "3         0.502   0.648    0    -5.698     0       0.0527       0.00513   \n",
      "4         0.807   0.887    1    -3.892     1       0.2750       0.00381   \n",
      "\n",
      "   instrumentalness  liveness  valence    tempo  duration_ms  time_signature  \\\n",
      "0             0.000    0.0828    0.706  108.029       188493               4   \n",
      "1             0.814    0.0946    0.250  155.489       176880               3   \n",
      "2             0.000    0.1080    0.274  172.065       205463               4   \n",
      "3             0.000    0.2040    0.291   91.837       193043               4   \n",
      "4             0.000    0.3910    0.780  160.517       144244               4   \n",
      "\n",
      "   chorus_hit  sections  target  \n",
      "0    41.18681        10       1  \n",
      "1    33.18083         9       0  \n",
      "2    44.89147         9       1  \n",
      "3    29.52521         7       0  \n",
      "4    24.99199         8       1  \n"
     ]
    }
   ],
   "source": [
    "# Convert back the categorical data to numerical data - mode\n",
    "# Define the mapping of categorical data to numerical data\n",
    "mapping = {'flop': 0, 'hit': 1}\n",
    "\n",
    "# Replace the categorical data to numerical data\n",
    "dataset['target'] = dataset['target'].replace(mapping)\n",
    "print(dataset.head())"
   ]
  },
  {
   "cell_type": "code",
   "execution_count": 6,
   "id": "7e1c4e1c",
   "metadata": {},
   "outputs": [
    {
     "name": "stdout",
     "output_type": "stream",
     "text": [
      "139\n",
      "0\n"
     ]
    }
   ],
   "source": [
    "# Check duplicate rows\n",
    "print(dataset.duplicated().sum())\n",
    "\n",
    "# Drop duplicate rows\n",
    "dataset.drop_duplicates(inplace=True)\n",
    "print(dataset.duplicated().sum())"
   ]
  },
  {
   "cell_type": "code",
   "execution_count": 7,
   "id": "f52914b3",
   "metadata": {},
   "outputs": [
    {
     "name": "stdout",
     "output_type": "stream",
     "text": [
      "       danceability       energy          key     loudness         mode  \\\n",
      "count   6259.000000  6259.000000  6259.000000  6259.000000  6259.000000   \n",
      "mean       0.569102     0.667043     5.275923    -7.573511     0.646110   \n",
      "std        0.190292     0.239991     3.607157     5.250005     0.478214   \n",
      "min        0.062200     0.000251     0.000000   -46.655000     0.000000   \n",
      "25%        0.448000     0.532000     2.000000    -8.381500     0.000000   \n",
      "50%        0.589000     0.712000     5.000000    -6.078000     1.000000   \n",
      "75%        0.709000     0.855000     8.000000    -4.603500     1.000000   \n",
      "max        0.981000     0.999000    11.000000    -0.149000     1.000000   \n",
      "\n",
      "       speechiness  acousticness  instrumentalness     liveness      valence  \\\n",
      "count  6259.000000   6259.000000       6259.000000  6259.000000  6259.000000   \n",
      "mean      0.098262      0.217894          0.161613     0.197042     0.445518   \n",
      "std       0.097723      0.296574          0.316405     0.165628     0.245502   \n",
      "min       0.022500      0.000000          0.000000     0.016700     0.000000   \n",
      "25%       0.038900      0.009045          0.000000     0.097000     0.243000   \n",
      "50%       0.057000      0.068800          0.000014     0.126000     0.434000   \n",
      "75%       0.113000      0.313000          0.048450     0.249500     0.630500   \n",
      "max       0.956000      0.996000          0.995000     0.982000     0.976000   \n",
      "\n",
      "             tempo   duration_ms  time_signature   chorus_hit     sections  \\\n",
      "count  6259.000000  6.259000e+03     6259.000000  6259.000000  6259.000000   \n",
      "mean    122.418008  2.358256e+05        3.930979    40.979194    10.290302   \n",
      "std      29.921408  8.557350e+04        0.377157    19.558411     3.778070   \n",
      "min      39.369000  2.985300e+04        0.000000     0.000000     2.000000   \n",
      "25%      98.058000  1.928200e+05        4.000000    28.066490     8.000000   \n",
      "50%     121.189000  2.207810e+05        4.000000    36.246140    10.000000   \n",
      "75%     141.250500  2.579865e+05        4.000000    48.186325    12.000000   \n",
      "max     210.977000  1.734201e+06        5.000000   213.154990    88.000000   \n",
      "\n",
      "            target  \n",
      "count  6259.000000  \n",
      "mean      0.508707  \n",
      "std       0.499964  \n",
      "min       0.000000  \n",
      "25%       0.000000  \n",
      "50%       1.000000  \n",
      "75%       1.000000  \n",
      "max       1.000000  \n"
     ]
    }
   ],
   "source": [
    "# Check outliers\n",
    "print(dataset.describe())"
   ]
  },
  {
   "cell_type": "code",
   "execution_count": 8,
   "id": "0f02c58d",
   "metadata": {},
   "outputs": [
    {
     "name": "stdout",
     "output_type": "stream",
     "text": [
      "                  danceability    energy       key  loudness      mode  \\\n",
      "danceability          1.000000  0.065570  0.014984  0.302646 -0.055441   \n",
      "energy                0.065570  1.000000  0.028945  0.774351  0.010873   \n",
      "key                   0.014984  0.028945  1.000000  0.011511 -0.144125   \n",
      "loudness              0.302646  0.774351  0.011511  1.000000  0.023572   \n",
      "mode                 -0.055441  0.010873 -0.144125  0.023572  1.000000   \n",
      "speechiness           0.199277  0.116224  0.024901  0.118984 -0.090534   \n",
      "acousticness         -0.202169 -0.732107 -0.021706 -0.648940  0.006816   \n",
      "instrumentalness     -0.373708 -0.294526 -0.014549 -0.537898 -0.036510   \n",
      "liveness             -0.110676  0.231431  0.023151  0.126378 -0.008603   \n",
      "valence               0.491729  0.283738  0.023522  0.324000  0.016722   \n",
      "tempo                -0.055190  0.220389  0.012722  0.195672  0.029351   \n",
      "duration_ms          -0.226917 -0.006420  0.006523 -0.088593 -0.039276   \n",
      "time_signature        0.178998  0.180530 -0.011018  0.213890  0.015167   \n",
      "chorus_hit           -0.076034  0.001671  0.001839 -0.038465 -0.012709   \n",
      "sections             -0.159957 -0.066671  0.000137 -0.104867 -0.030689   \n",
      "target                0.385749  0.065079  0.006775  0.329098  0.031270   \n",
      "\n",
      "                  speechiness  acousticness  instrumentalness  liveness  \\\n",
      "danceability         0.199277     -0.202169         -0.373708 -0.110676   \n",
      "energy               0.116224     -0.732107         -0.294526  0.231431   \n",
      "key                  0.024901     -0.021706         -0.014549  0.023151   \n",
      "loudness             0.118984     -0.648940         -0.537898  0.126378   \n",
      "mode                -0.090534      0.006816         -0.036510 -0.008603   \n",
      "speechiness          1.000000     -0.133907         -0.146372  0.119117   \n",
      "acousticness        -0.133907      1.000000          0.322166 -0.149498   \n",
      "instrumentalness    -0.146372      0.322166          1.000000 -0.047749   \n",
      "liveness             0.119117     -0.149498         -0.047749  1.000000   \n",
      "valence              0.049679     -0.164187         -0.329934 -0.019257   \n",
      "tempo                0.118166     -0.186686         -0.084091  0.040652   \n",
      "duration_ms         -0.069184     -0.041604          0.173473  0.043919   \n",
      "time_signature       0.062648     -0.194119         -0.136917  0.025484   \n",
      "chorus_hit           0.005561      0.000340          0.087502  0.044570   \n",
      "sections            -0.032825      0.015616          0.110319  0.009306   \n",
      "target               0.094767     -0.191732         -0.500230 -0.065542   \n",
      "\n",
      "                   valence     tempo  duration_ms  time_signature  chorus_hit  \\\n",
      "danceability      0.491729 -0.055190    -0.226917        0.178998   -0.076034   \n",
      "energy            0.283738  0.220389    -0.006420        0.180530    0.001671   \n",
      "key               0.023522  0.012722     0.006523       -0.011018    0.001839   \n",
      "loudness          0.324000  0.195672    -0.088593        0.213890   -0.038465   \n",
      "mode              0.016722  0.029351    -0.039276        0.015167   -0.012709   \n",
      "speechiness       0.049679  0.118166    -0.069184        0.062648    0.005561   \n",
      "acousticness     -0.164187 -0.186686    -0.041604       -0.194119    0.000340   \n",
      "instrumentalness -0.329934 -0.084091     0.173473       -0.136917    0.087502   \n",
      "liveness         -0.019257  0.040652     0.043919        0.025484    0.044570   \n",
      "valence           1.000000  0.054246    -0.243494        0.120054   -0.100579   \n",
      "tempo             0.054246  1.000000    -0.020303        0.026385   -0.063604   \n",
      "duration_ms      -0.243494 -0.020303     1.000000       -0.000910    0.087492   \n",
      "time_signature    0.120054  0.026385    -0.000910        1.000000   -0.031679   \n",
      "chorus_hit       -0.100579 -0.063604     0.087492       -0.031679    1.000000   \n",
      "sections         -0.163377  0.046712     0.813317       -0.013411   -0.163588   \n",
      "target            0.198165  0.039838    -0.182028        0.128607   -0.082068   \n",
      "\n",
      "                  sections    target  \n",
      "danceability     -0.159957  0.385749  \n",
      "energy           -0.066671  0.065079  \n",
      "key               0.000137  0.006775  \n",
      "loudness         -0.104867  0.329098  \n",
      "mode             -0.030689  0.031270  \n",
      "speechiness      -0.032825  0.094767  \n",
      "acousticness      0.015616 -0.191732  \n",
      "instrumentalness  0.110319 -0.500230  \n",
      "liveness          0.009306 -0.065542  \n",
      "valence          -0.163377  0.198165  \n",
      "tempo             0.046712  0.039838  \n",
      "duration_ms       0.813317 -0.182028  \n",
      "time_signature   -0.013411  0.128607  \n",
      "chorus_hit       -0.163588 -0.082068  \n",
      "sections          1.000000 -0.109073  \n",
      "target           -0.109073  1.000000  \n",
      "target              1.000000\n",
      "danceability        0.385749\n",
      "loudness            0.329098\n",
      "valence             0.198165\n",
      "time_signature      0.128607\n",
      "speechiness         0.094767\n",
      "energy              0.065079\n",
      "tempo               0.039838\n",
      "mode                0.031270\n",
      "key                 0.006775\n",
      "liveness           -0.065542\n",
      "chorus_hit         -0.082068\n",
      "sections           -0.109073\n",
      "duration_ms        -0.182028\n",
      "acousticness       -0.191732\n",
      "instrumentalness   -0.500230\n",
      "Name: target, dtype: float64\n"
     ]
    },
    {
     "data": {
      "image/png": "[encoded data removed]",
      "text/plain": [
       "<Figure size 640x480 with 2 Axes>"
      ]
     },
     "metadata": {},
     "output_type": "display_data"
    },
    {
     "name": "stdout",
     "output_type": "stream",
     "text": [
      "   danceability  energy  loudness  speechiness  acousticness  \\\n",
      "0         0.741   0.626    -4.826       0.0886       0.02000   \n",
      "1         0.447   0.247   -14.661       0.0346       0.87100   \n",
      "2         0.550   0.415    -6.557       0.0520       0.16100   \n",
      "3         0.502   0.648    -5.698       0.0527       0.00513   \n",
      "4         0.807   0.887    -3.892       0.2750       0.00381   \n",
      "\n",
      "   instrumentalness  liveness  valence  duration_ms  time_signature  \\\n",
      "0             0.000    0.0828    0.706       188493               4   \n",
      "1             0.814    0.0946    0.250       176880               3   \n",
      "2             0.000    0.1080    0.274       205463               4   \n",
      "3             0.000    0.2040    0.291       193043               4   \n",
      "4             0.000    0.3910    0.780       144244               4   \n",
      "\n",
      "   chorus_hit  sections  target  \n",
      "0    41.18681        10       1  \n",
      "1    33.18083         9       0  \n",
      "2    44.89147         9       1  \n",
      "3    29.52521         7       0  \n",
      "4    24.99199         8       1  \n"
     ]
    }
   ],
   "source": [
    "# Correlation matrix\n",
    "print(dataset.corr())\n",
    "\n",
    "# Data Visualization\n",
    "import seaborn as sns\n",
    "corr = dataset.corr().sort_values(by='target', ascending=False)\n",
    "print(corr['target'])\n",
    "sns.heatmap(corr['target'].drop('target').to_frame(), cmap='coolwarm', annot=True, fmt='.2f')\n",
    "plt.show()\n",
    "\n",
    "# Drop weak correlated columns\n",
    "dataset.drop(['tempo', 'mode', 'key'], axis=1, inplace=True)\n",
    "print(dataset.head())"
   ]
  },
  {
   "cell_type": "code",
   "execution_count": 9,
   "id": "95127a96",
   "metadata": {},
   "outputs": [
    {
     "name": "stdout",
     "output_type": "stream",
     "text": [
      "[[  0.741     0.626    -4.826   ...   4.       41.18681  10.     ]\n",
      " [  0.447     0.247   -14.661   ...   3.       33.18083   9.     ]\n",
      " [  0.55      0.415    -6.557   ...   4.       44.89147   9.     ]\n",
      " ...\n",
      " [  0.719     0.804    -4.581   ...   4.       20.73371   7.     ]\n",
      " [  0.6       0.177   -16.07    ...   4.       21.65301  14.     ]\n",
      " [  0.121     0.123   -23.025   ...   4.       71.05343  15.     ]] \n",
      "\n",
      "\n",
      "[1 0 1 ... 1 0 0] \n",
      "\n",
      "\n"
     ]
    }
   ],
   "source": [
    "# Split dataset into independent & dependent variables\n",
    "x = dataset.iloc[:, :-1].values\n",
    "y = dataset.iloc[:, -1].values\n",
    "\n",
    "print(x, '\\n\\n')\n",
    "print(y, '\\n\\n')"
   ]
  },
  {
   "cell_type": "code",
   "execution_count": 10,
   "id": "9945842a",
   "metadata": {},
   "outputs": [
    {
     "name": "stdout",
     "output_type": "stream",
     "text": [
      "[[  0.434     0.959    -2.016   ...   4.       23.38661  10.     ]\n",
      " [  0.586     0.927    -3.014   ...   4.       23.24115  10.     ]\n",
      " [  0.622     0.484   -10.954   ...   3.       34.46095   4.     ]\n",
      " ...\n",
      " [  0.816     0.726    -3.998   ...   4.       28.85205  13.     ]\n",
      " [  0.343     0.594    -4.876   ...   3.       15.33824   8.     ]\n",
      " [  0.52      0.944    -4.098   ...   4.       78.47095   4.     ]] \n",
      "\n",
      "\n",
      "[[ 6.350000e-01  7.580000e-01 -5.772000e+00 ...  4.000000e+00\n",
      "   3.982993e+01  9.000000e+00]\n",
      " [ 3.780000e-01  6.090000e-01 -6.070000e+00 ...  4.000000e+00\n",
      "   2.594833e+01  1.200000e+01]\n",
      " [ 5.430000e-01  7.500000e-01 -7.071000e+00 ...  4.000000e+00\n",
      "   4.917778e+01  1.100000e+01]\n",
      " ...\n",
      " [ 8.490000e-01  6.570000e-01 -5.124000e+00 ...  4.000000e+00\n",
      "   2.982418e+01  1.000000e+01]\n",
      " [ 5.710000e-01  9.420000e-01 -5.097000e+00 ...  4.000000e+00\n",
      "   3.400359e+01  1.000000e+01]\n",
      " [ 2.010000e-01  4.190000e-02 -2.592100e+01 ...  4.000000e+00\n",
      "   4.916822e+01  6.000000e+00]] \n",
      "\n",
      "\n",
      "[0 1 0 ... 1 1 0] \n",
      "\n",
      "\n",
      "[1 1 1 ... 1 0 0] \n",
      "\n",
      "\n"
     ]
    }
   ],
   "source": [
    "# Split dataset into training & test sets\n",
    "from sklearn.model_selection import train_test_split\n",
    "x_train, x_test, y_train, y_test = train_test_split(x, y, test_size=0.2, random_state=0)\n",
    "\n",
    "print(x_train, '\\n\\n')\n",
    "print(x_test, '\\n\\n')\n",
    "print(y_train, '\\n\\n')\n",
    "print(y_test, '\\n\\n')"
   ]
  },
  {
   "cell_type": "code",
   "execution_count": 11,
   "id": "f12d97d4",
   "metadata": {},
   "outputs": [
    {
     "name": "stdout",
     "output_type": "stream",
     "text": [
      "[[-0.72470086  1.23156216  1.06608903 ...  0.18132309 -0.89432973\n",
      "  -0.07243271]\n",
      " [ 0.07565922  1.0968425   0.87312858 ...  0.18132309 -0.9018026\n",
      "  -0.07243271]\n",
      " [ 0.26521818 -0.7681827  -0.66204772 ... -2.40524298 -0.32539576\n",
      "  -1.65384514]\n",
      " ...\n",
      " [ 1.28673039  0.25063468  0.68287499 ...  0.18132309 -0.61354781\n",
      "   0.7182735 ]\n",
      " [-1.20386381 -0.30508389  0.5131162  ... -2.40524298 -1.30780729\n",
      "  -0.59957019]\n",
      " [-0.27186556  1.16841232  0.66354028 ...  0.18132309  1.93557728\n",
      "  -1.65384514]] \n",
      "\n",
      "\n",
      "[[ 3.33670031e-01  3.85354332e-01  3.39877166e-01 ...  1.81323085e-01\n",
      "  -4.95693747e-02 -3.36001449e-01]\n",
      " [-1.01957037e+00 -2.41934056e-01  2.82259718e-01 ...  1.81323085e-01\n",
      "  -7.62723734e-01  4.54704765e-01]\n",
      " [-1.50758438e-01  3.51674419e-01  8.87192298e-02 ...  1.81323085e-01\n",
      "   4.30667772e-01  1.91136027e-01]\n",
      " ...\n",
      " [ 1.46049278e+00 -3.98545752e-02  4.65166114e-01 ...  1.81323085e-01\n",
      "  -5.63605526e-01 -7.24327108e-02]\n",
      " [-3.32368635e-03  1.15999234e+00  4.70386486e-01 ...  1.81323085e-01\n",
      "  -3.48892203e-01 -7.24327108e-02]\n",
      " [-1.95156862e+00 -2.62941892e+00 -3.55587438e+00 ...  1.81323085e-01\n",
      "   4.30176636e-01 -1.12670766e+00]] \n",
      "\n",
      "\n"
     ]
    }
   ],
   "source": [
    "# Feature scaling\n",
    "from sklearn.preprocessing import StandardScaler\n",
    "sc = StandardScaler()\n",
    "x_train = sc.fit_transform(x_train)\n",
    "x_test = sc.transform(x_test)\n",
    "\n",
    "print(x_train, '\\n\\n')\n",
    "print(x_test, '\\n\\n')"
   ]
  },
  {
   "cell_type": "code",
   "execution_count": 12,
   "id": "6cf3a807",
   "metadata": {},
   "outputs": [
    {
     "data": {
      "text/html": [
       "<style>#sk-container-id-1 {color: black;background-color: white;}#sk-container-id-1 pre{padding: 0;}#sk-container-id-1 div.sk-toggleable {background-color: white;}#sk-container-id-1 label.sk-toggleable__label {cursor: pointer;display: block;width: 100%;margin-bottom: 0;padding: 0.3em;box-sizing: border-box;text-align: center;}#sk-container-id-1 label.sk-toggleable__label-arrow:before {content: \"▸\";float: left;margin-right: 0.25em;color: #696969;}#sk-container-id-1 label.sk-toggleable__label-arrow:hover:before {color: black;}#sk-container-id-1 div.sk-estimator:hover label.sk-toggleable__label-arrow:before {color: black;}#sk-container-id-1 div.sk-toggleable__content {max-height: 0;max-width: 0;overflow: hidden;text-align: left;background-color: #f0f8ff;}#sk-container-id-1 div.sk-toggleable__content pre {margin: 0.2em;color: black;border-radius: 0.25em;background-color: #f0f8ff;}#sk-container-id-1 input.sk-toggleable__control:checked~div.sk-toggleable__content {max-height: 200px;max-width: 100%;overflow: auto;}#sk-container-id-1 input.sk-toggleable__control:checked~label.sk-toggleable__label-arrow:before {content: \"▾\";}#sk-container-id-1 div.sk-estimator input.sk-toggleable__control:checked~label.sk-toggleable__label {background-color: #d4ebff;}#sk-container-id-1 div.sk-label input.sk-toggleable__control:checked~label.sk-toggleable__label {background-color: #d4ebff;}#sk-container-id-1 input.sk-hidden--visually {border: 0;clip: rect(1px 1px 1px 1px);clip: rect(1px, 1px, 1px, 1px);height: 1px;margin: -1px;overflow: hidden;padding: 0;position: absolute;width: 1px;}#sk-container-id-1 div.sk-estimator {font-family: monospace;background-color: #f0f8ff;border: 1px dotted black;border-radius: 0.25em;box-sizing: border-box;margin-bottom: 0.5em;}#sk-container-id-1 div.sk-estimator:hover {background-color: #d4ebff;}#sk-container-id-1 div.sk-parallel-item::after {content: \"\";width: 100%;border-bottom: 1px solid gray;flex-grow: 1;}#sk-container-id-1 div.sk-label:hover label.sk-toggleable__label {background-color: #d4ebff;}#sk-container-id-1 div.sk-serial::before {content: \"\";position: absolute;border-left: 1px solid gray;box-sizing: border-box;top: 0;bottom: 0;left: 50%;z-index: 0;}#sk-container-id-1 div.sk-serial {display: flex;flex-direction: column;align-items: center;background-color: white;padding-right: 0.2em;padding-left: 0.2em;position: relative;}#sk-container-id-1 div.sk-item {position: relative;z-index: 1;}#sk-container-id-1 div.sk-parallel {display: flex;align-items: stretch;justify-content: center;background-color: white;position: relative;}#sk-container-id-1 div.sk-item::before, #sk-container-id-1 div.sk-parallel-item::before {content: \"\";position: absolute;border-left: 1px solid gray;box-sizing: border-box;top: 0;bottom: 0;left: 50%;z-index: -1;}#sk-container-id-1 div.sk-parallel-item {display: flex;flex-direction: column;z-index: 1;position: relative;background-color: white;}#sk-container-id-1 div.sk-parallel-item:first-child::after {align-self: flex-end;width: 50%;}#sk-container-id-1 div.sk-parallel-item:last-child::after {align-self: flex-start;width: 50%;}#sk-container-id-1 div.sk-parallel-item:only-child::after {width: 0;}#sk-container-id-1 div.sk-dashed-wrapped {border: 1px dashed gray;margin: 0 0.4em 0.5em 0.4em;box-sizing: border-box;padding-bottom: 0.4em;background-color: white;}#sk-container-id-1 div.sk-label label {font-family: monospace;font-weight: bold;display: inline-block;line-height: 1.2em;}#sk-container-id-1 div.sk-label-container {text-align: center;}#sk-container-id-1 div.sk-container {/* jupyter's `normalize.less` sets `[hidden] { display: none; }` but bootstrap.min.css set `[hidden] { display: none !important; }` so we also need the `!important` here to be able to override the default hidden behavior on the sphinx rendered scikit-learn.org. See: https://github.com/scikit-learn/scikit-learn/issues/21755 */display: inline-block !important;position: relative;}#sk-container-id-1 div.sk-text-repr-fallback {display: none;}</style><div id=\"sk-container-id-1\" class=\"sk-top-container\"><div class=\"sk-text-repr-fallback\"><pre>RandomForestClassifier(criterion=&#x27;entropy&#x27;, n_estimators=50, random_state=0)</pre><b>In a Jupyter environment, please rerun this cell to show the HTML representation or trust the notebook. <br />On GitHub, the HTML representation is unable to render, please try loading this page with nbviewer.org.</b></div><div class=\"sk-container\" hidden><div class=\"sk-item\"><div class=\"sk-estimator sk-toggleable\"><input class=\"sk-toggleable__control sk-hidden--visually\" id=\"sk-estimator-id-1\" type=\"checkbox\" checked><label for=\"sk-estimator-id-1\" class=\"sk-toggleable__label sk-toggleable__label-arrow\">RandomForestClassifier</label><div class=\"sk-toggleable__content\"><pre>RandomForestClassifier(criterion=&#x27;entropy&#x27;, n_estimators=50, random_state=0)</pre></div></div></div></div></div>"
      ],
      "text/plain": [
       "RandomForestClassifier(criterion='entropy', n_estimators=50, random_state=0)"
      ]
     },
     "execution_count": 12,
     "metadata": {},
     "output_type": "execute_result"
    }
   ],
   "source": [
    "# Fitting SVM classifier to the training set\n",
    "from sklearn.svm import SVC\n",
    "classifierSVM = SVC(kernel='linear', random_state=0)\n",
    "classifierSVM.fit(x_train, y_train)\n",
    "\n",
    "# Fitting Random Forest classifier to the training set\n",
    "from sklearn.ensemble import RandomForestClassifier\n",
    "classifierRF = RandomForestClassifier(n_estimators=50, criterion='entropy', random_state=0)\n",
    "classifierRF.fit(x_train, y_train)"
   ]
  },
  {
   "cell_type": "code",
   "execution_count": 13,
   "id": "2a453de4",
   "metadata": {},
   "outputs": [
    {
     "name": "stdout",
     "output_type": "stream",
     "text": [
      "[1 1 1 ... 1 1 0] \n",
      "\n",
      "\n",
      "[1 1 0 ... 1 1 0] \n",
      "\n",
      "\n"
     ]
    }
   ],
   "source": [
    "# Predict test set results\n",
    "y_predSVM = classifierSVM.predict(x_test)\n",
    "y_predRF = classifierRF.predict(x_test)\n",
    "print(y_predSVM, '\\n\\n')\n",
    "print(y_predRF, '\\n\\n')"
   ]
  },
  {
   "cell_type": "code",
   "execution_count": 14,
   "id": "6d4f7148",
   "metadata": {},
   "outputs": [
    {
     "name": "stdout",
     "output_type": "stream",
     "text": [
      "[[445 174]\n",
      " [ 47 586]] \n",
      "\n",
      "\n"
     ]
    },
    {
     "data": {
      "image/png": "[encoded data removed]",
      "text/plain": [
       "<Figure size 1000x700 with 2 Axes>"
      ]
     },
     "metadata": {},
     "output_type": "display_data"
    },
    {
     "name": "stdout",
     "output_type": "stream",
     "text": [
      "[[509 110]\n",
      " [ 75 558]] \n",
      "\n",
      "\n"
     ]
    },
    {
     "data": {
      "image/png": "[encoded data removed]",
      "text/plain": [
       "<Figure size 1000x700 with 2 Axes>"
      ]
     },
     "metadata": {},
     "output_type": "display_data"
    }
   ],
   "source": [
    "# Making Confusion Matrix - SVM\n",
    "from sklearn.metrics import confusion_matrix\n",
    "cmSVM = confusion_matrix(y_test, y_predSVM)\n",
    "print(cmSVM, '\\n\\n')\n",
    "\n",
    "# Plot Confusion Matrix - SVM\n",
    "import seaborn as sns\n",
    "plt.figure(figsize=(10, 7))\n",
    "sns.heatmap(cmSVM, annot=True, cmap='Blues', fmt='d')\n",
    "plt.xlabel('Predicted')\n",
    "plt.ylabel('Actual')\n",
    "plt.title('Confusion Matrix SVM')\n",
    "plt.show()\n",
    "\n",
    "# Making Confusion Matrix - RF\n",
    "from sklearn.metrics import confusion_matrix\n",
    "cmRF = confusion_matrix(y_test, y_predRF)\n",
    "print(cmRF, '\\n\\n')\n",
    "\n",
    "# Plot Confusion Matrix - RF\n",
    "import seaborn as sns\n",
    "plt.figure(figsize=(10, 7))\n",
    "sns.heatmap(cmRF, annot=True, cmap='Greens', fmt='d')\n",
    "plt.xlabel('Predicted')\n",
    "plt.ylabel('Actual')\n",
    "plt.title('Confusion Matrix RF')\n",
    "plt.show()"
   ]
  },
  {
   "cell_type": "code",
   "execution_count": 15,
   "id": "3d2ed79a",
   "metadata": {},
   "outputs": [
    {
     "name": "stdout",
     "output_type": "stream",
     "text": [
      "Support Vector Machine Classifier\n",
      "Precision Score:  0.8370161357574564\n",
      "Recall Score:  0.8234824281150159\n",
      "F1 Score:  0.8214400055355219\n",
      "Accuracy Score:  0.8234824281150159 \n",
      "\n",
      "\n",
      "Random Forest Classifier\n",
      "Precision Score:  0.8532496885305061\n",
      "Recall Score:  0.8522364217252396\n",
      "F1 Score:  0.8520745061601035\n",
      "Accuracy Score:  0.8522364217252396\n"
     ]
    }
   ],
   "source": [
    "# Precision score, recall score, f-score, accuracy score - SVM\n",
    "from sklearn.metrics import precision_score, recall_score, f1_score, accuracy_score\n",
    "print('Support Vector Machine Classifier')\n",
    "print('Precision Score: ', precision_score(y_test, y_predSVM, average='weighted'))\n",
    "print('Recall Score: ', recall_score(y_test, y_predSVM, average='weighted'))\n",
    "print('F1 Score: ', f1_score(y_test, y_predSVM, average='weighted'))\n",
    "print('Accuracy Score: ', accuracy_score(y_test, y_predSVM), '\\n\\n')\n",
    "\n",
    "# Precision score, recall score, f-score, accuracy score - RF\n",
    "print('Random Forest Classifier')\n",
    "print('Precision Score: ', precision_score(y_test, y_predRF, average='weighted'))\n",
    "print('Recall Score: ', recall_score(y_test, y_predRF, average='weighted'))\n",
    "print('F1 Score: ', f1_score(y_test, y_predRF, average='weighted'))\n",
    "print('Accuracy Score: ', accuracy_score(y_test, y_predRF))"
   ]
  },
  {
   "cell_type": "code",
   "execution_count": 16,
   "id": "6480fcc9",
   "metadata": {},
   "outputs": [],
   "source": [
    "# In conclusion, Random Forest Classifier shows the highest accuracy score compare to SVM Classifier.\n",
    "# Thus, Random Forest Classifier is the best model for this dataset.\n",
    "# Random forest classifier model saved to pickle file\n",
    "import pickle\n",
    "pickle.dump(classifierRF, open('spotify_RF.pkl', 'wb'))"
   ]
  }
 ],
 "metadata": {
  "kernelspec": {
   "display_name": "Python 3 (ipykernel)",
   "language": "python",
   "name": "python3"
  },
  "language_info": {
   "codemirror_mode": {
    "name": "ipython",
    "version": 3
   },
   "file_extension": ".py",
   "mimetype": "text/x-python",
   "name": "python",
   "nbconvert_exporter": "python",
   "pygments_lexer": "ipython3",
   "version": "3.10.9"
  }
 },
 "nbformat": 4,
 "nbformat_minor": 5
}
